{
 "cells": [
  {
   "cell_type": "code",
   "execution_count": 1,
   "metadata": {},
   "outputs": [],
   "source": [
    "import requests\n",
    "from finnhub import client as Finnhub\n",
    "from pandas.io.json import json_normalize\n",
    "import json\n",
    "import requests\n",
    "import pandas as pd\n",
    "import pygsheets\n",
    "import sys\n",
    "sys.path.append('.')\n",
    "\n",
    "import investing_functions as f\n",
    "\n",
    "gc = pygsheets.authorize(service_file=r\"google_spreadsheets_api_json_credentials\")\n",
    "\n",
    "# Import static variables\n",
    "symbols_array = ['AAL', 'VIAC', 'M', 'DKS', 'MAC', 'CARS']\n",
    "gsheet_id = 'https://docs.google.com/spreadsheets/d/1fcH7_9m3MEIKcPj9JYjG0pYfOxXL-J9IaFygl_XjAO0/edit#gid=1901856452'"
   ]
  },
  {
   "cell_type": "markdown",
   "metadata": {},
   "source": [
    "### Weekly Candels - several stocks"
   ]
  },
  {
   "cell_type": "code",
   "execution_count": 2,
   "metadata": {},
   "outputs": [
    {
     "name": "stdout",
     "output_type": "stream",
     "text": [
      "All Stocks Weekly Data is uploaded to GSheets\n"
     ]
    }
   ],
   "source": [
    "# Get weekly candles\n",
    "df_all_stocks_weekly = f.get_stocks_data_weekly(symbols_array)\n",
    "\n",
    "# Upload weekly candles df to Gsheet\n",
    "tab_id = 'candels_data_weekly'\n",
    "f.export_to_gsheets(gsheet_id, tab_id, df_all_stocks_weekly)\n",
    "\n",
    "print('All Stocks Weekly Data is uploaded to GSheets')"
   ]
  },
  {
   "cell_type": "markdown",
   "metadata": {},
   "source": [
    "## Daily Candels - several stocks"
   ]
  },
  {
   "cell_type": "code",
   "execution_count": 3,
   "metadata": {},
   "outputs": [
    {
     "name": "stdout",
     "output_type": "stream",
     "text": [
      "All Stocks Data is uploaded to GSheets\n"
     ]
    }
   ],
   "source": [
    "# Get daily candles\n",
    "df_all_stocks_daily = f.get_stocks_data_daily(symbols_array)\n",
    "\n",
    "# Upload daily candles df to Gsheet\n",
    "tab_id = 'candels_data_daily'\n",
    "f.export_to_gsheets(gsheet_id, tab_id, df_all_stocks_daily)\n",
    "\n",
    "print('All Stocks Data is uploaded to GSheets')"
   ]
  },
  {
   "cell_type": "markdown",
   "metadata": {},
   "source": [
    "## Recommendation - several stocks"
   ]
  },
  {
   "cell_type": "code",
   "execution_count": 4,
   "metadata": {},
   "outputs": [
    {
     "name": "stdout",
     "output_type": "stream",
     "text": [
      "All Stocks Data is uploaded to GSheets\n"
     ]
    }
   ],
   "source": [
    "# Get Recommendation Data\n",
    "df_all_recommendations = f.get_recommendations_data(symbols_array)\n",
    "\n",
    "# Upload Recommendation Data to Gsheet\n",
    "tab_id = 'recommendation_data'\n",
    "f.export_to_gsheets(gsheet_id, tab_id, df_all_recommendations)\n",
    "\n",
    "print('All Stocks Data is uploaded to GSheets')"
   ]
  },
  {
   "cell_type": "markdown",
   "metadata": {},
   "source": [
    "## News - several stocks"
   ]
  },
  {
   "cell_type": "code",
   "execution_count": 5,
   "metadata": {},
   "outputs": [
    {
     "name": "stdout",
     "output_type": "stream",
     "text": [
      "All News Data is uploaded to GSheets\n"
     ]
    }
   ],
   "source": [
    "# Get Recommendation Data\n",
    "df_all_news = f.get_company_news(symbols_array)\n",
    "\n",
    "# Upload Recommendation Data to Gsheet\n",
    "tab_id = 'news_data'\n",
    "f.export_to_gsheets(gsheet_id, tab_id, df_all_news)\n",
    "\n",
    "print('All News Data is uploaded to GSheets')"
   ]
  },
  {
   "cell_type": "markdown",
   "metadata": {},
   "source": [
    "## Dividends"
   ]
  },
  {
   "cell_type": "code",
   "execution_count": 6,
   "metadata": {},
   "outputs": [
    {
     "ename": "NameError",
     "evalue": "name 'symbol' is not defined",
     "output_type": "error",
     "traceback": [
      "\u001b[0;31m---------------------------------------------------------------------------\u001b[0m",
      "\u001b[0;31mNameError\u001b[0m                                 Traceback (most recent call last)",
      "\u001b[0;32m<ipython-input-6-8eefa991b5ba>\u001b[0m in \u001b[0;36m<module>\u001b[0;34m\u001b[0m\n\u001b[1;32m      1\u001b[0m \u001b[0mdate_start\u001b[0m \u001b[0;34m=\u001b[0m \u001b[0;34m'2010-01-01'\u001b[0m\u001b[0;34m\u001b[0m\u001b[0;34m\u001b[0m\u001b[0m\n\u001b[1;32m      2\u001b[0m \u001b[0mdate_end\u001b[0m \u001b[0;34m=\u001b[0m \u001b[0;34m'2020-12-31'\u001b[0m\u001b[0;34m\u001b[0m\u001b[0;34m\u001b[0m\u001b[0m\n\u001b[0;32m----> 3\u001b[0;31m \u001b[0mr\u001b[0m \u001b[0;34m=\u001b[0m \u001b[0mrequests\u001b[0m\u001b[0;34m.\u001b[0m\u001b[0mget\u001b[0m\u001b[0;34m(\u001b[0m\u001b[0;34m'https://finnhub.io/api/v1/stock/dividend?symbol={0}&from={1}&to={2}&token={3}'\u001b[0m\u001b[0;34m.\u001b[0m\u001b[0mformat\u001b[0m\u001b[0;34m(\u001b[0m\u001b[0msymbol\u001b[0m\u001b[0;34m,\u001b[0m \u001b[0mdate_start\u001b[0m\u001b[0;34m,\u001b[0m \u001b[0mdate_end\u001b[0m\u001b[0;34m,\u001b[0m \u001b[0mtoken\u001b[0m\u001b[0;34m)\u001b[0m\u001b[0;34m)\u001b[0m\u001b[0;34m\u001b[0m\u001b[0;34m\u001b[0m\u001b[0m\n\u001b[0m\u001b[1;32m      4\u001b[0m \u001b[0mp\u001b[0m \u001b[0;34m=\u001b[0m \u001b[0mr\u001b[0m\u001b[0;34m.\u001b[0m\u001b[0mjson\u001b[0m\u001b[0;34m(\u001b[0m\u001b[0;34m)\u001b[0m\u001b[0;34m\u001b[0m\u001b[0;34m\u001b[0m\u001b[0m\n\u001b[1;32m      5\u001b[0m \u001b[0mdf_dividend\u001b[0m \u001b[0;34m=\u001b[0m \u001b[0mpd\u001b[0m\u001b[0;34m.\u001b[0m\u001b[0mread_json\u001b[0m\u001b[0;34m(\u001b[0m\u001b[0mjson\u001b[0m\u001b[0;34m.\u001b[0m\u001b[0mdumps\u001b[0m\u001b[0;34m(\u001b[0m\u001b[0mp\u001b[0m\u001b[0;34m)\u001b[0m\u001b[0;34m)\u001b[0m\u001b[0;34m\u001b[0m\u001b[0;34m\u001b[0m\u001b[0m\n",
      "\u001b[0;31mNameError\u001b[0m: name 'symbol' is not defined"
     ]
    }
   ],
   "source": [
    "date_start = '2010-01-01'\n",
    "date_end = '2020-12-31'\n",
    "r = requests.get('https://finnhub.io/api/v1/stock/dividend?symbol={0}&from={1}&to={2}&token={3}'.format(symbol, date_start, date_end, token))\n",
    "p = r.json()\n",
    "df_dividend = pd.read_json(json.dumps(p))\n",
    "df_dividend['date'] = pd.to_datetime(df_dividend['date'], unit='s')\n",
    "df_dividend['symbol'] = symbol\n",
    "\n",
    "################################################\n",
    "# Заливаем все в sheet\n",
    "################################################\n",
    "\n",
    "sh = gc.open_by_url('https://docs.google.com/spreadsheets/d/1fcH7_9m3MEIKcPj9JYjG0pYfOxXL-J9IaFygl_XjAO0/edit#gid=1901856452')\n",
    "wks = sh.worksheet_by_title(\"dividends_data\")\n",
    "wks.clear()\n",
    "wks.set_dataframe(df_dividend,(1,1), nan='')"
   ]
  },
  {
   "cell_type": "markdown",
   "metadata": {},
   "source": [
    "## Margin Metrics"
   ]
  },
  {
   "cell_type": "code",
   "execution_count": null,
   "metadata": {},
   "outputs": [],
   "source": [
    "# Get Margin Metrics Data\n",
    "df_margin_metrics_all = f.get_margin_metrics(symbols_array)\n",
    "\n",
    "# Upload Margin Metrics to Gsheet\n",
    "tab_id = 'margin_metrics'\n",
    "f.export_to_gsheets(gsheet_id, tab_id, df_margin_metrics_all)\n",
    "\n",
    "print('All Margin Metrics is uploaded to GSheets')"
   ]
  },
  {
   "cell_type": "markdown",
   "metadata": {},
   "source": [
    "## Upgrade/Downgrade"
   ]
  },
  {
   "cell_type": "code",
   "execution_count": null,
   "metadata": {},
   "outputs": [],
   "source": [
    "r = requests.get('https://finnhub.io/api/v1/stock/upgrade-downgrade?symbol={0}&token={1}'.format(symbol, token))\n",
    "p = r.json()\n",
    "df_upgrade = pd.read_json(json.dumps(p))\n",
    "df_upgrade['gradeTime'] = pd.to_datetime(df_upgrade['gradeTime'], unit='s')\n",
    "df_upgrade = df_upgrade.loc[:, ['symbol', 'company', 'gradeTime', 'action', 'fromGrade', 'toGrade']]\n",
    "\n",
    "\n",
    "################################################\n",
    "# Заливаем все в sheet\n",
    "################################################\n",
    "\n",
    "sh = gc.open_by_url('https://docs.google.com/spreadsheets/d/1fcH7_9m3MEIKcPj9JYjG0pYfOxXL-J9IaFygl_XjAO0/edit#gid=1901856452')\n",
    "wks = sh.worksheet_by_title(\"upgrade_downgrade_data\")\n",
    "wks.clear()\n",
    "wks.set_dataframe(df_upgrade,(1,1), nan='')"
   ]
  },
  {
   "cell_type": "markdown",
   "metadata": {},
   "source": [
    "## Company news"
   ]
  },
  {
   "cell_type": "code",
   "execution_count": null,
   "metadata": {},
   "outputs": [],
   "source": [
    "symbol = 'AAL'\n",
    "token = 'finnhub_token_here'\n",
    "r = requests.get('https://finnhub.io/api/v1/news/{0}?token={1}'.format(symbol, token))\n",
    "p = r.json()\n",
    "df_news = pd.read_json(json.dumps(p))\n",
    "# df_upgrade['gradeTime'] = pd.to_datetime(df_upgrade['gradeTime'], unit='s')\n",
    "# df_upgrade = df_upgrade.loc[:, ['symbol', 'company', 'gradeTime', 'action', 'fromGrade', 'toGrade']]\n",
    "df_news.head(5)\n",
    "\n",
    "columns = ['category', 'datetime', 'headline', 'id', 'image', 'related', 'source', 'summary', 'url']\n",
    "\n",
    "################################################\n",
    "# Заливаем все в sheet\n",
    "################################################\n",
    "\n",
    "# sh = gc.open_by_url('https://docs.google.com/spreadsheets/d/1fcH7_9m3MEIKcPj9JYjG0pYfOxXL-J9IaFygl_XjAO0/edit#gid=1901856452')\n",
    "# wks = sh.worksheet_by_title(\"news_data\")\n",
    "# wks.clear()\n",
    "# wks.set_dataframe(df_news,(1,1), nan='')"
   ]
  },
  {
   "cell_type": "code",
   "execution_count": null,
   "metadata": {},
   "outputs": [],
   "source": [
    "r = requests.get('https://finnhub.io/api/v1/calendar/earnings?from=2010-01-01&to=2020-04-15&symbol={0}&token={1}'.format(symbol, token))\n",
    "p = r.json()\n",
    "df_earnings = pd.read_json(json.dumps(p))\n",
    "df_earnings_calendar = json_normalize(df_earnings['earningsCalendar']) \n",
    "df_earnings_calendar"
   ]
  },
  {
   "cell_type": "code",
   "execution_count": null,
   "metadata": {},
   "outputs": [],
   "source": []
  }
 ],
 "metadata": {
  "kernelspec": {
   "display_name": "Python 3 (ipykernel)",
   "language": "python",
   "name": "python3"
  },
  "language_info": {
   "codemirror_mode": {
    "name": "ipython",
    "version": 3
   },
   "file_extension": ".py",
   "mimetype": "text/x-python",
   "name": "python",
   "nbconvert_exporter": "python",
   "pygments_lexer": "ipython3",
   "version": "3.9.10"
  }
 },
 "nbformat": 4,
 "nbformat_minor": 4
}
